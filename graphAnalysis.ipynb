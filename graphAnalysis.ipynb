{
 "cells": [
  {
   "cell_type": "code",
   "execution_count": 4,
   "metadata": {},
   "outputs": [
    {
     "data": {
      "text/html": [
       "<div>\n",
       "<style scoped>\n",
       "    .dataframe tbody tr th:only-of-type {\n",
       "        vertical-align: middle;\n",
       "    }\n",
       "\n",
       "    .dataframe tbody tr th {\n",
       "        vertical-align: top;\n",
       "    }\n",
       "\n",
       "    .dataframe thead th {\n",
       "        text-align: right;\n",
       "    }\n",
       "</style>\n",
       "<table border=\"1\" class=\"dataframe\">\n",
       "  <thead>\n",
       "    <tr style=\"text-align: right;\">\n",
       "      <th></th>\n",
       "      <th>store</th>\n",
       "      <th>item</th>\n",
       "      <th>sales</th>\n",
       "    </tr>\n",
       "  </thead>\n",
       "  <tbody>\n",
       "    <tr>\n",
       "      <th>count</th>\n",
       "      <td>913000.000000</td>\n",
       "      <td>913000.000000</td>\n",
       "      <td>913000.000000</td>\n",
       "    </tr>\n",
       "    <tr>\n",
       "      <th>mean</th>\n",
       "      <td>5.500000</td>\n",
       "      <td>25.500000</td>\n",
       "      <td>52.250287</td>\n",
       "    </tr>\n",
       "    <tr>\n",
       "      <th>std</th>\n",
       "      <td>2.872283</td>\n",
       "      <td>14.430878</td>\n",
       "      <td>28.801144</td>\n",
       "    </tr>\n",
       "    <tr>\n",
       "      <th>min</th>\n",
       "      <td>1.000000</td>\n",
       "      <td>1.000000</td>\n",
       "      <td>0.000000</td>\n",
       "    </tr>\n",
       "    <tr>\n",
       "      <th>25%</th>\n",
       "      <td>3.000000</td>\n",
       "      <td>13.000000</td>\n",
       "      <td>30.000000</td>\n",
       "    </tr>\n",
       "    <tr>\n",
       "      <th>50%</th>\n",
       "      <td>5.500000</td>\n",
       "      <td>25.500000</td>\n",
       "      <td>47.000000</td>\n",
       "    </tr>\n",
       "    <tr>\n",
       "      <th>75%</th>\n",
       "      <td>8.000000</td>\n",
       "      <td>38.000000</td>\n",
       "      <td>70.000000</td>\n",
       "    </tr>\n",
       "    <tr>\n",
       "      <th>max</th>\n",
       "      <td>10.000000</td>\n",
       "      <td>50.000000</td>\n",
       "      <td>231.000000</td>\n",
       "    </tr>\n",
       "  </tbody>\n",
       "</table>\n",
       "</div>"
      ],
      "text/plain": [
       "               store           item          sales\n",
       "count  913000.000000  913000.000000  913000.000000\n",
       "mean        5.500000      25.500000      52.250287\n",
       "std         2.872283      14.430878      28.801144\n",
       "min         1.000000       1.000000       0.000000\n",
       "25%         3.000000      13.000000      30.000000\n",
       "50%         5.500000      25.500000      47.000000\n",
       "75%         8.000000      38.000000      70.000000\n",
       "max        10.000000      50.000000     231.000000"
      ]
     },
     "execution_count": 4,
     "metadata": {},
     "output_type": "execute_result"
    }
   ],
   "source": [
    "#mporting the libraries\n",
    "import numpy as np\n",
    "import matplotlib.pyplot as plt\n",
    "%matplotlib inline\n",
    "import pandas as pd\n",
    "\n",
    "# Read train.csv file and set datatype\n",
    "data_type = {'store': 'int8', 'item': 'int8', 'sales': 'int16'}\n",
    "df = pd.read_csv(\"D:/Users/pradeep.kottalage/Desktop/ML/train/train.csv\", parse_dates= ['date'], dtype= data_type)\n",
    "#print(df)\n",
    "df.describe()\n"
   ]
  },
  {
   "cell_type": "code",
   "execution_count": 5,
   "metadata": {},
   "outputs": [
    {
     "name": "stdout",
     "output_type": "stream",
     "text": [
      "Train shape: (913000, 4)\n"
     ]
    }
   ],
   "source": [
    "# Dimensions\n",
    "print('Train shape:', df.shape)"
   ]
  },
  {
   "cell_type": "code",
   "execution_count": 74,
   "metadata": {},
   "outputs": [],
   "source": [
    "###df['week'] = df['date'].dt.week\n",
    "df['weekofyear'] = df['date'].dt.weekofyear\n",
    "df['dayofweek'] = df['date'].dt.dayofweek\n",
    "##df['day']=df['date'].dt.day\n",
    "##df['dayofweek'] = df['date'].dt.dayofweek\n",
    "##df['weekday'] = df['date'].dt.weekday\n",
    "df['weekday_name'] = df['date'].dt.weekday_name\n",
    "df['dayofyear']=df['date'].dt.dayofyear\n",
    "df['quarter'] = df['date'].dt.quarter\n",
    "#df['is_month_start'] = df['date'].dt.is_month_start\n",
    "#df['is_month_end'] = df['date'].dt.is_month_end\n",
    "#df['is_quarter_start']=df['date'].dt.is_quarter_start\n",
    "#df['is_quarter_end'] = df['date'].dt.is_quarter_end\n",
    "#df['is_year_start'] = df['date'].dt.is_year_start\n",
    "#df['is_year_end'] = df['date'].dt.is_year_end\n",
    "##df['freq']=df['date'].dt.freq\n",
    "##df['daysinmonth'] = df['date'].dt.daysinmonth\n",
    "##df['days_in_month'] = df['date'].dt.days_in_month\n",
    "df.drop('date', axis=1, inplace=True)\n",
    "df['weekend'] = ((df['dayofweek']) // 5 == 1).astype(float)\n",
    "#print(df)\n"
   ]
  },
  {
   "cell_type": "code",
   "execution_count": 19,
   "metadata": {},
   "outputs": [
    {
     "name": "stdout",
     "output_type": "stream",
     "text": [
      "        store  item  sales  weekofyear  dayofweek  dayofyear  quarter  \\\n",
      "0           1     1     13           1          1          1        1   \n",
      "1           1     1     11           1          2          2        1   \n",
      "2           1     1     14           1          3          3        1   \n",
      "3           1     1     13           1          4          4        1   \n",
      "4           1     1     10           1          5          5        1   \n",
      "5           1     1     12           1          6          6        1   \n",
      "6           1     1     10           2          0          7        1   \n",
      "7           1     1      9           2          1          8        1   \n",
      "8           1     1     12           2          2          9        1   \n",
      "9           1     1      9           2          3         10        1   \n",
      "10          1     1      9           2          4         11        1   \n",
      "11          1     1      7           2          5         12        1   \n",
      "12          1     1     10           2          6         13        1   \n",
      "13          1     1     12           3          0         14        1   \n",
      "14          1     1      5           3          1         15        1   \n",
      "15          1     1      7           3          2         16        1   \n",
      "16          1     1     16           3          3         17        1   \n",
      "17          1     1      7           3          4         18        1   \n",
      "18          1     1     18           3          5         19        1   \n",
      "19          1     1     15           3          6         20        1   \n",
      "20          1     1      8           4          0         21        1   \n",
      "21          1     1      7           4          1         22        1   \n",
      "22          1     1      9           4          2         23        1   \n",
      "23          1     1      8           4          3         24        1   \n",
      "24          1     1     14           4          4         25        1   \n",
      "25          1     1     12           4          5         26        1   \n",
      "26          1     1     12           4          6         27        1   \n",
      "27          1     1     11           5          0         28        1   \n",
      "28          1     1      6           5          1         29        1   \n",
      "29          1     1      9           5          2         30        1   \n",
      "...       ...   ...    ...         ...        ...        ...      ...   \n",
      "912970     10    50     49          48          5        336        4   \n",
      "912971     10    50     75          48          6        337        4   \n",
      "912972     10    50     54          49          0        338        4   \n",
      "912973     10    50     68          49          1        339        4   \n",
      "912974     10    50     60          49          2        340        4   \n",
      "912975     10    50     66          49          3        341        4   \n",
      "912976     10    50     67          49          4        342        4   \n",
      "912977     10    50     69          49          5        343        4   \n",
      "912978     10    50     69          49          6        344        4   \n",
      "912979     10    50     54          50          0        345        4   \n",
      "912980     10    50     67          50          1        346        4   \n",
      "912981     10    50     67          50          2        347        4   \n",
      "912982     10    50     72          50          3        348        4   \n",
      "912983     10    50     72          50          4        349        4   \n",
      "912984     10    50     52          50          5        350        4   \n",
      "912985     10    50     86          50          6        351        4   \n",
      "912986     10    50     53          51          0        352        4   \n",
      "912987     10    50     54          51          1        353        4   \n",
      "912988     10    50     51          51          2        354        4   \n",
      "912989     10    50     63          51          3        355        4   \n",
      "912990     10    50     75          51          4        356        4   \n",
      "912991     10    50     70          51          5        357        4   \n",
      "912992     10    50     76          51          6        358        4   \n",
      "912993     10    50     51          52          0        359        4   \n",
      "912994     10    50     41          52          1        360        4   \n",
      "912995     10    50     63          52          2        361        4   \n",
      "912996     10    50     59          52          3        362        4   \n",
      "912997     10    50     74          52          4        363        4   \n",
      "912998     10    50     62          52          5        364        4   \n",
      "912999     10    50     82          52          6        365        4   \n",
      "\n",
      "        weekend  weekday_name_Friday  weekday_name_Monday  \\\n",
      "0           0.0                    0                    0   \n",
      "1           0.0                    0                    0   \n",
      "2           0.0                    0                    0   \n",
      "3           0.0                    1                    0   \n",
      "4           1.0                    0                    0   \n",
      "5           1.0                    0                    0   \n",
      "6           0.0                    0                    1   \n",
      "7           0.0                    0                    0   \n",
      "8           0.0                    0                    0   \n",
      "9           0.0                    0                    0   \n",
      "10          0.0                    1                    0   \n",
      "11          1.0                    0                    0   \n",
      "12          1.0                    0                    0   \n",
      "13          0.0                    0                    1   \n",
      "14          0.0                    0                    0   \n",
      "15          0.0                    0                    0   \n",
      "16          0.0                    0                    0   \n",
      "17          0.0                    1                    0   \n",
      "18          1.0                    0                    0   \n",
      "19          1.0                    0                    0   \n",
      "20          0.0                    0                    1   \n",
      "21          0.0                    0                    0   \n",
      "22          0.0                    0                    0   \n",
      "23          0.0                    0                    0   \n",
      "24          0.0                    1                    0   \n",
      "25          1.0                    0                    0   \n",
      "26          1.0                    0                    0   \n",
      "27          0.0                    0                    1   \n",
      "28          0.0                    0                    0   \n",
      "29          0.0                    0                    0   \n",
      "...         ...                  ...                  ...   \n",
      "912970      1.0                    0                    0   \n",
      "912971      1.0                    0                    0   \n",
      "912972      0.0                    0                    1   \n",
      "912973      0.0                    0                    0   \n",
      "912974      0.0                    0                    0   \n",
      "912975      0.0                    0                    0   \n",
      "912976      0.0                    1                    0   \n",
      "912977      1.0                    0                    0   \n",
      "912978      1.0                    0                    0   \n",
      "912979      0.0                    0                    1   \n",
      "912980      0.0                    0                    0   \n",
      "912981      0.0                    0                    0   \n",
      "912982      0.0                    0                    0   \n",
      "912983      0.0                    1                    0   \n",
      "912984      1.0                    0                    0   \n",
      "912985      1.0                    0                    0   \n",
      "912986      0.0                    0                    1   \n",
      "912987      0.0                    0                    0   \n",
      "912988      0.0                    0                    0   \n",
      "912989      0.0                    0                    0   \n",
      "912990      0.0                    1                    0   \n",
      "912991      1.0                    0                    0   \n",
      "912992      1.0                    0                    0   \n",
      "912993      0.0                    0                    1   \n",
      "912994      0.0                    0                    0   \n",
      "912995      0.0                    0                    0   \n",
      "912996      0.0                    0                    0   \n",
      "912997      0.0                    1                    0   \n",
      "912998      1.0                    0                    0   \n",
      "912999      1.0                    0                    0   \n",
      "\n",
      "        weekday_name_Saturday  weekday_name_Sunday  weekday_name_Thursday  \\\n",
      "0                           0                    0                      0   \n",
      "1                           0                    0                      0   \n",
      "2                           0                    0                      1   \n",
      "3                           0                    0                      0   \n",
      "4                           1                    0                      0   \n",
      "5                           0                    1                      0   \n",
      "6                           0                    0                      0   \n",
      "7                           0                    0                      0   \n",
      "8                           0                    0                      0   \n",
      "9                           0                    0                      1   \n",
      "10                          0                    0                      0   \n",
      "11                          1                    0                      0   \n",
      "12                          0                    1                      0   \n",
      "13                          0                    0                      0   \n",
      "14                          0                    0                      0   \n",
      "15                          0                    0                      0   \n",
      "16                          0                    0                      1   \n",
      "17                          0                    0                      0   \n",
      "18                          1                    0                      0   \n",
      "19                          0                    1                      0   \n",
      "20                          0                    0                      0   \n",
      "21                          0                    0                      0   \n",
      "22                          0                    0                      0   \n",
      "23                          0                    0                      1   \n",
      "24                          0                    0                      0   \n",
      "25                          1                    0                      0   \n",
      "26                          0                    1                      0   \n",
      "27                          0                    0                      0   \n",
      "28                          0                    0                      0   \n",
      "29                          0                    0                      0   \n",
      "...                       ...                  ...                    ...   \n",
      "912970                      1                    0                      0   \n",
      "912971                      0                    1                      0   \n",
      "912972                      0                    0                      0   \n",
      "912973                      0                    0                      0   \n",
      "912974                      0                    0                      0   \n",
      "912975                      0                    0                      1   \n",
      "912976                      0                    0                      0   \n",
      "912977                      1                    0                      0   \n",
      "912978                      0                    1                      0   \n",
      "912979                      0                    0                      0   \n",
      "912980                      0                    0                      0   \n",
      "912981                      0                    0                      0   \n",
      "912982                      0                    0                      1   \n",
      "912983                      0                    0                      0   \n",
      "912984                      1                    0                      0   \n",
      "912985                      0                    1                      0   \n",
      "912986                      0                    0                      0   \n",
      "912987                      0                    0                      0   \n",
      "912988                      0                    0                      0   \n",
      "912989                      0                    0                      1   \n",
      "912990                      0                    0                      0   \n",
      "912991                      1                    0                      0   \n",
      "912992                      0                    1                      0   \n",
      "912993                      0                    0                      0   \n",
      "912994                      0                    0                      0   \n",
      "912995                      0                    0                      0   \n",
      "912996                      0                    0                      1   \n",
      "912997                      0                    0                      0   \n",
      "912998                      1                    0                      0   \n",
      "912999                      0                    1                      0   \n",
      "\n",
      "        weekday_name_Tuesday  weekday_name_Wednesday  \n",
      "0                          1                       0  \n",
      "1                          0                       1  \n",
      "2                          0                       0  \n",
      "3                          0                       0  \n",
      "4                          0                       0  \n",
      "5                          0                       0  \n",
      "6                          0                       0  \n",
      "7                          1                       0  \n",
      "8                          0                       1  \n",
      "9                          0                       0  \n",
      "10                         0                       0  \n",
      "11                         0                       0  \n",
      "12                         0                       0  \n",
      "13                         0                       0  \n",
      "14                         1                       0  \n",
      "15                         0                       1  \n",
      "16                         0                       0  \n",
      "17                         0                       0  \n",
      "18                         0                       0  \n",
      "19                         0                       0  \n",
      "20                         0                       0  \n",
      "21                         1                       0  \n",
      "22                         0                       1  \n",
      "23                         0                       0  \n",
      "24                         0                       0  \n",
      "25                         0                       0  \n",
      "26                         0                       0  \n",
      "27                         0                       0  \n",
      "28                         1                       0  \n",
      "29                         0                       1  \n",
      "...                      ...                     ...  \n",
      "912970                     0                       0  \n",
      "912971                     0                       0  \n",
      "912972                     0                       0  \n",
      "912973                     1                       0  \n",
      "912974                     0                       1  \n",
      "912975                     0                       0  \n",
      "912976                     0                       0  \n",
      "912977                     0                       0  \n",
      "912978                     0                       0  \n",
      "912979                     0                       0  \n",
      "912980                     1                       0  \n",
      "912981                     0                       1  \n",
      "912982                     0                       0  \n",
      "912983                     0                       0  \n",
      "912984                     0                       0  \n",
      "912985                     0                       0  \n",
      "912986                     0                       0  \n",
      "912987                     1                       0  \n",
      "912988                     0                       1  \n",
      "912989                     0                       0  \n",
      "912990                     0                       0  \n",
      "912991                     0                       0  \n",
      "912992                     0                       0  \n",
      "912993                     0                       0  \n",
      "912994                     1                       0  \n",
      "912995                     0                       1  \n",
      "912996                     0                       0  \n",
      "912997                     0                       0  \n",
      "912998                     0                       0  \n",
      "912999                     0                       0  \n",
      "\n",
      "[913000 rows x 15 columns]\n"
     ]
    }
   ],
   "source": [
    "df = pd.get_dummies(df)\n",
    "print(df)"
   ]
  },
  {
   "cell_type": "code",
   "execution_count": 17,
   "metadata": {},
   "outputs": [
    {
     "name": "stdout",
     "output_type": "stream",
     "text": [
      "['date', 'store', 'item']\n"
     ]
    }
   ],
   "source": [
    "col = [i for i in df.columns if i not in ['sales']]\n",
    "print(col)"
   ]
  },
  {
   "cell_type": "code",
   "execution_count": 24,
   "metadata": {},
   "outputs": [
    {
     "name": "stdout",
     "output_type": "stream",
     "text": [
      "['sales']\n"
     ]
    }
   ],
   "source": [
    "y = [i for i in df.columns if i in ['sales']]\n",
    "\n",
    "print(y)"
   ]
  },
  {
   "cell_type": "code",
   "execution_count": 75,
   "metadata": {},
   "outputs": [],
   "source": [
    "train = df.loc[~df.sales.isna()]\n",
    "#print(train)"
   ]
  },
  {
   "cell_type": "code",
   "execution_count": 25,
   "metadata": {},
   "outputs": [
    {
     "name": "stdout",
     "output_type": "stream",
     "text": [
      "(730400, 3)\n",
      "(182600, 3)\n"
     ]
    }
   ],
   "source": [
    "from sklearn import cross_validation\n",
    "X_train, X_test, y_train, y_test = cross_validation.train_test_split(train[col],train[y], test_size=0.2, random_state=42)\n",
    "print(X_train.shape)\n",
    "print(X_test.shape)\n",
    "#X_train.head()\n"
   ]
  },
  {
   "cell_type": "code",
   "execution_count": null,
   "metadata": {},
   "outputs": [],
   "source": []
  },
  {
   "cell_type": "code",
   "execution_count": null,
   "metadata": {},
   "outputs": [],
   "source": []
  },
  {
   "cell_type": "code",
   "execution_count": 40,
   "metadata": {},
   "outputs": [
    {
     "data": {
      "text/plain": [
       "['sales']"
      ]
     },
     "metadata": {},
     "output_type": "display_data"
    },
    {
     "name": "stderr",
     "output_type": "stream",
     "text": [
      "C:\\ProgramData\\Anaconda3\\lib\\site-packages\\matplotlib\\axes\\_axes.py:6462: UserWarning: The 'normed' kwarg is deprecated, and has been replaced by the 'density' kwarg.\n",
      "  warnings.warn(\"The 'normed' kwarg is deprecated, and has been \"\n"
     ]
    },
    {
     "data": {
      "image/png": "[encoded data removed]",
      "text/plain": [
       "<Figure size 1440x720 with 1 Axes>"
      ]
     },
     "metadata": {},
     "output_type": "display_data"
    }
   ],
   "source": [
    "from sklearn import cross_validation\n",
    "X_train, X_test, y_train, y_test = cross_validation.train_test_split(train[col],train[y], test_size=0.2, random_state=42)\n",
    "\n",
    "\n",
    "import matplotlib.pyplot as plt\n",
    "import seaborn as sns\n",
    "\n",
    "y = [i for i in df.columns if i in ['sales']]\n",
    "display(y)\n",
    "fig, ax = plt.subplots(figsize=(20, 10))\n",
    "#display(y_train)\n",
    "ax = sns.distplot(y_train['sales'], bins=5);\n",
    "\n",
    "ax.set_ylabel(ylabel='Sales', fontsize=16)\n",
    "ax.set_title(label='Sales Distributions', fontsize=20)\n",
    "plt.show();\n"
   ]
  },
  {
   "cell_type": "code",
   "execution_count": 73,
   "metadata": {},
   "outputs": [
    {
     "data": {
      "image/png": "[encoded data removed]",
      "text/plain": [
       "<Figure size 1440x1008 with 1 Axes>"
      ]
     },
     "metadata": {},
     "output_type": "display_data"
    }
   ],
   "source": [
    "\n",
    "import matplotlib.pyplot as plt\n",
    "import seaborn as sns\n",
    "train['WhichMonth']= train['date'].dt.month\n",
    "train['WhichYear']= train['date'].dt.year\n",
    "\n",
    "x = train.groupby([train.WhichMonth])['sales'].mean()\n",
    "\n",
    "\n",
    "f, ax = plt.subplots(figsize=(20, 14))\n",
    "x.index = [\"Jan\", \"Feb\", \"Mar\", \"Apr\", \"May\", \"Jun\", \"Jul\", \"Aug\", \"Sep\", \"Oct\", \"Nov\", \"Dec\"]\n",
    "\n",
    "ax = sns.barplot(x=x.index, y=x.values, \n",
    "               label=\"Total\")\n",
    "\n",
    "ax.set_xlabel(xlabel='Months', fontsize=16)\n",
    "ax.set_ylabel(ylabel='Sales', fontsize=16)\n",
    "ax.set_title(label='Mean Sales per Month', fontsize=20)\n",
    "plt.show();"
   ]
  },
  {
   "cell_type": "code",
   "execution_count": 69,
   "metadata": {},
   "outputs": [
    {
     "data": {
      "image/png": "[encoded data removed]",
      "text/plain": [
       "<Figure size 1440x1008 with 1 Axes>"
      ]
     },
     "metadata": {},
     "output_type": "display_data"
    }
   ],
   "source": [
    "x = train.groupby([train.WhichYear])['sales'].mean()\n",
    "\n",
    "f, ax = plt.subplots(figsize=(20, 14))\n",
    "x.index = [\"2013\", \"2014\", \"2015\", \"2016\", \"2017\"]\n",
    "ax = sns.barplot(x=x.index, y=x.values, \n",
    "               label=\"Total\")\n",
    "\n",
    "ax.set_xlabel(xlabel='Years', fontsize=16)\n",
    "ax.set_ylabel(ylabel='Sales', fontsize=16)\n",
    "ax.set_title(label='Mean Sales per Year', fontsize=20)\n",
    "plt.show();"
   ]
  },
  {
   "cell_type": "code",
   "execution_count": null,
   "metadata": {},
   "outputs": [],
   "source": []
  }
 ],
 "metadata": {
  "kernelspec": {
   "display_name": "Python 3",
   "language": "python",
   "name": "python3"
  },
  "language_info": {
   "codemirror_mode": {
    "name": "ipython",
    "version": 3
   },
   "file_extension": ".py",
   "mimetype": "text/x-python",
   "name": "python",
   "nbconvert_exporter": "python",
   "pygments_lexer": "ipython3",
   "version": "3.6.5"
  }
 },
 "nbformat": 4,
 "nbformat_minor": 2
}
